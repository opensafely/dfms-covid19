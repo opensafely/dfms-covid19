{
 "cells": [
  {
   "cell_type": "code",
   "execution_count": 323,
   "metadata": {},
   "outputs": [],
   "source": [
    "from IPython.display import HTML\n",
    "import pandas as pd\n",
    "import numpy as np\n",
    "import itertools\n",
    "import matplotlib.pyplot as plt\n",
    "from textwrap import wrap\n",
    "import matplotlib.dates as mdates\n",
    "import matplotlib.axes as ax\n",
    "import datetime\n",
    "from tabulate import tabulate\n",
    "from pandas.plotting import register_matplotlib_converters\n",
    "register_matplotlib_converters()\n",
    "%matplotlib inline\n",
    "\n",
    "%config InlineBackend.figure_format='png'\n",
    "\n",
    "# set the date format for plots\n",
    "dtFmt = mdates.DateFormatter('%b-%Y')"
   ]
  }
 ],
 "metadata": {
  "kernelspec": {
   "display_name": "base",
   "language": "python",
   "name": "python3"
  },
  "language_info": {
   "codemirror_mode": {
    "name": "ipython",
    "version": 3
   },
   "file_extension": ".py",
   "mimetype": "text/x-python",
   "name": "python",
   "nbconvert_exporter": "python",
   "pygments_lexer": "ipython3",
   "version": "3.9.13"
  },
  "orig_nbformat": 4,
  "vscode": {
   "interpreter": {
    "hash": "b7c4a146ef515f1e94fabc680e44b871408a140672db69292bd8884583a64a8c"
   }
  }
 },
 "nbformat": 4,
 "nbformat_minor": 2
}
